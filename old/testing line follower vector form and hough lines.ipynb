{
 "cells": [
  {
   "cell_type": "code",
   "execution_count": 1,
   "id": "bf4ebd05",
   "metadata": {},
   "outputs": [],
   "source": [
    "import cv2\n",
    "import math\n",
    "import numpy as np"
   ]
  },
  {
   "cell_type": "code",
   "execution_count": 2,
   "id": "c5cf37d8",
   "metadata": {},
   "outputs": [
    {
     "name": "stdout",
     "output_type": "stream",
     "text": [
      "Image dimensions: (900, 900, 3)\n"
     ]
    }
   ],
   "source": [
    "path = r\"../test_images/red4.webp\"\n",
    "img = cv2.imread(path)\n",
    "# img = cv2.bilateralFilter(img, 9,75,75)\n",
    "img = cv2.GaussianBlur(img, (15, 15), cv2.BORDER_DEFAULT)\n",
    "\n",
    "# Converting to HSV color space for better red-color segmentation\n",
    "img_hsv = cv2.cvtColor(img, cv2.COLOR_BGR2HSV)\n",
    "\n",
    "cv2.imshow('red line',img)\n",
    "cv2.imshow('hsv',img_hsv)\n",
    "cv2.waitKey(0)\n",
    "cv2.destroyAllWindows()\n",
    "print(f\"Image dimensions: {img.shape}\")"
   ]
  },
  {
   "cell_type": "code",
   "execution_count": 3,
   "id": "6412104c",
   "metadata": {},
   "outputs": [],
   "source": [
    "# Lower and upper HSV bounds for red (at both ends of the spectrum)\n",
    "lowerb1 = np.array([0, 75, 20])\n",
    "upperb1 = np.array([10, 255, 255])\n",
    "\n",
    "lowerb2 = np.array([160, 75, 20])\n",
    "upperb2 = np.array([180, 255, 255])\n",
    "\n",
    "#the above are the pixel values that specify two ranges for the color red\n",
    "\n",
    "# Masking the path to be followed\n",
    "lower_mask  = cv2.inRange(img_hsv, lowerb1, upperb1)\n",
    "upper_mask  = cv2.inRange(img_hsv, lowerb2, upperb2)\n",
    "\n",
    "mask = lower_mask + upper_mask\n",
    "cv2.imshow('lower mask',lower_mask)\n",
    "cv2.imshow('upper mask',upper_mask)\n",
    "cv2.imshow('full masked',mask)\n",
    "cv2.waitKey(0)\n",
    "cv2.destroyAllWindows()"
   ]
  },
  {
   "cell_type": "code",
   "execution_count": 15,
   "id": "2acc2fe3",
   "metadata": {},
   "outputs": [
    {
     "name": "stdout",
     "output_type": "stream",
     "text": [
      "(5, 1, 2)\n",
      "number of lines detected is 5\n"
     ]
    }
   ],
   "source": [
    "img_edges = cv2.Canny(mask, 50, 200, None, 3)\n",
    "#lines = cv2.HoughLinesP(img_edges, 1, np.pi/180, 50, maxLineGap=50)\n",
    "lines = cv2.HoughLines(img_edges, 1, np.pi / 180, 150, None, 0, 0)\n",
    "print(lines.shape)\n",
    "# for line in lines:\n",
    "#     print(line[0])\n",
    "#     x1,y1,x2,y2=line[0]\n",
    "#     cv2.line(img,(x1,y1),(x2,y2),(0,255,0),thickness=5)\n",
    "cv2.imshow('canny',img_edges)\n",
    "cv2.imshow('original image with lines',img)\n",
    "cv2.waitKey(0)\n",
    "cv2.destroyAllWindows()\n",
    "print(f\"number of lines detected is {len(lines)}\")"
   ]
  },
  {
   "cell_type": "code",
   "execution_count": 17,
   "id": "2cc8e5f9",
   "metadata": {},
   "outputs": [
    {
     "name": "stdout",
     "output_type": "stream",
     "text": [
      "The number of hough lines is: 5\n",
      "First Hough Line is: rho(67.0), theta(-40.999995676853075)\n",
      "Thicnkess (in pixels): 234.7349957274396\n",
      "Distance from center (in pixels): 22.614404571462238 \n"
     ]
    }
   ],
   "source": [
    "\n",
    "line_taken = 0\n",
    "rho = lines[line_taken][0][0]\n",
    "theta = lines[line_taken][0][1]\n",
    "\n",
    "theta_line = 90 - math.degrees(theta)\n",
    "theta_norm_line = math.atan(- 1 / math.tan(math.radians(theta_line))) #in radians\n",
    "thickness = abs(np.count_nonzero(mask[len(mask) - 15]) / math.cos(math.pi - theta_norm_line))\n",
    "\n",
    "# Distance from center calculations \n",
    "a = math.cos(theta)\n",
    "b = math.sin(theta)\n",
    "x0 = a * rho\n",
    "y0 = b * rho\n",
    "pt1 = np.array((int(x0 + 1000*(-b)), int(y0 + 1000*(a))))\n",
    "pt2 = np.array((int(x0 - 1000*(-b)), int(y0 - 1000*(a))))\n",
    "center = (img.shape[0]/2, img.shape[1]/2)\n",
    "distanceFromOrigin = np.cross(pt2 - pt1, pt1-center)/np.linalg.norm(pt1-pt2)\n",
    "cv2.line(img,pt1,pt2,(0,255,0),thickness=3)\n",
    "cv2.imshow('original image with lines',img)\n",
    "cv2.waitKey(0)\n",
    "cv2.destroyAllWindows()\n",
    "\n",
    "print(f\"The number of hough lines is: {len(lines)}\")\n",
    "print(f\"First Hough Line is: rho({lines[0][0][0]}), theta({90-math.degrees(lines[0][0][1])})\")\n",
    "print(f\"Thicnkess (in pixels): {thickness}\")\n",
    "print(f\"Distance from center (in pixels): {distanceFromOrigin} \")"
   ]
  },
  {
   "cell_type": "code",
   "execution_count": 5,
   "id": "85c5b4ea",
   "metadata": {},
   "outputs": [],
   "source": [
    "empty_image = np.zeros((900,900,3))\n",
    "cv2.line(empty_image,(50,0),(50,200),(0,255,0),4)\n",
    "cv2.imshow('empty_image',empty_image)\n",
    "cv2.waitKey(0)\n",
    "cv2.destroyAllWindows()"
   ]
  },
  {
   "cell_type": "code",
   "execution_count": 6,
   "id": "010ada86",
   "metadata": {},
   "outputs": [
    {
     "name": "stdout",
     "output_type": "stream",
     "text": [
      "{'m00': 32342415.0, 'm10': 13717988415.0, 'm01': 17204119935.0, 'm20': 7782762000225.0, 'm11': 8949756831315.0, 'm02': 10601425327605.0, 'm30': 4980547962237375.0, 'm21': 5544844628758395.0, 'm12': 6249954824139915.0, 'm03': 7171318524025635.0, 'mu20': 1964297109644.8062, 'mu11': 1652654312576.045, 'mu02': 1449921250439.9392, 'mu30': 13193207088767.012, 'mu21': 2965449195973.533, 'mu12': -4839563845010.666, 'mu03': -10502344818292.703, 'nu20': 0.001877856002620039, 'nu11': 0.0015799273978914527, 'nu02': 0.001386115832526645, 'nu30': 2.2177841014842818e-06, 'nu21': 4.984933561900214e-07, 'nu12': -8.135328795620287e-07, 'nu03': -1.7654489321361941e-06}\n",
      "cY is 531\n",
      "cX is 424\n",
      "Vector to be followed is:(-26.0, -369)\n"
     ]
    }
   ],
   "source": [
    "moments = cv2.moments(mask)\n",
    "print(moments)\n",
    "cX = int(moments['m10'] / moments['m00'])\n",
    "cY = int(moments['m01'] / moments['m00'])\n",
    "\n",
    "print(f\"cY is {cY}\")\n",
    "print(f\"cX is {cX}\")\n",
    "cv2.arrowedLine(img_hsv, (int(img_hsv.shape[1]/2), int(img_hsv.shape[0])), (cX, cY), (255, 0, 0), 10)\n",
    "cv2.imshow('orig',img_hsv)\n",
    "cv2.waitKey(0)\n",
    "cv2.destroyAllWindows()\n",
    "print(f'Vector to be followed is:({cX - img_hsv.shape[1]/2}, {cY - img_hsv.shape[0]})')"
   ]
  },
  {
   "cell_type": "code",
   "execution_count": null,
   "id": "22598ee2",
   "metadata": {},
   "outputs": [],
   "source": []
  }
 ],
 "metadata": {
  "kernelspec": {
   "display_name": "Python 3 (ipykernel)",
   "language": "python",
   "name": "python3"
  },
  "language_info": {
   "codemirror_mode": {
    "name": "ipython",
    "version": 3
   },
   "file_extension": ".py",
   "mimetype": "text/x-python",
   "name": "python",
   "nbconvert_exporter": "python",
   "pygments_lexer": "ipython3",
   "version": "3.10.12"
  }
 },
 "nbformat": 4,
 "nbformat_minor": 5
}
